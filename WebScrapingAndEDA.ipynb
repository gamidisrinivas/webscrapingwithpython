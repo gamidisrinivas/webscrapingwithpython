{
 "cells": [
  {
   "cell_type": "markdown",
   "metadata": {},
   "source": [
    "**Webscrapping - Analysing the cryptocurrencies by scarping data from coinmarketcap.com**"
   ]
  },
  {
   "cell_type": "code",
   "execution_count": 1,
   "metadata": {},
   "outputs": [],
   "source": [
    "from urllib.request import urlopen\n",
    "from bs4 import BeautifulSoup\n",
    "import pandas as pd \n",
    "import matplotlib\n",
    "import seaborn as sns\n",
    "import numpy as np"
   ]
  },
  {
   "cell_type": "markdown",
   "metadata": {},
   "source": [
    "**Using BeautifulSoup library to scrape data**"
   ]
  },
  {
   "cell_type": "code",
   "execution_count": 2,
   "metadata": {},
   "outputs": [],
   "source": [
    "myUrl = 'https://coinmarketcap.com/'\n",
    "sauce = urlopen(myUrl).read()\n",
    "soup = BeautifulSoup(sauce, \"lxml\")"
   ]
  },
  {
   "cell_type": "markdown",
   "metadata": {},
   "source": [
    "**Getting the Table of data which contains cryptocurrencies and capturing table data into respective variables**"
   ]
  },
  {
   "cell_type": "code",
   "execution_count": 3,
   "metadata": {},
   "outputs": [],
   "source": [
    "tbody = soup.table.tbody\n",
    "htmltable_rows = tbody.find_all('tr')"
   ]
  },
  {
   "cell_type": "code",
   "execution_count": 4,
   "metadata": {},
   "outputs": [],
   "source": [
    "row = []\n",
    "rank = []                    #List for rank of the currency (first column in the webpage)\n",
    "currency_name = []           #List for name of the currency\n",
    "market_cap = []              #List for market cap\n",
    "price = []                   #List for price of the crypto currency\n",
    "volume = []                  #List for Volume(24h)\n",
    "supply = []                  #List for Circulating supply\n",
    "change = [] \n",
    "for tr in htmltable_rows:\n",
    "    td = tr.find_all('td')\n",
    "    rank.append((td[0].text.split('\\n'))[1])\n",
    "    currency_name.append((td[1].text.split('\\n'))[4])\n",
    "    market_cap.append((td[2].text.split('\\n'))[1])\n",
    "    price.append((td[3].text.split('\\n'))[1])\n",
    "    volume.append((td[4].text.split('\\n'))[1])\n",
    "    supply.append((td[5].text.split('\\n'))[2])\n",
    "    change.append((td[6].text.split('\\n'))[0])"
   ]
  },
  {
   "cell_type": "markdown",
   "metadata": {},
   "source": [
    "**Constructing a DataFrame from the captured data from cryptocurrenct table**"
   ]
  },
  {
   "cell_type": "code",
   "execution_count": 5,
   "metadata": {},
   "outputs": [],
   "source": [
    " df = pd.DataFrame({\n",
    "                         'rank' : rank,\n",
    "                         'currency_name' : currency_name,\n",
    "                         'market_cap' : market_cap,\n",
    "                         'price' : price,\n",
    "                         'volume' : volume,\n",
    "                         'supply' : supply,\n",
    "                         'change' : change\n",
    "                         })\n",
    "\n",
    "# Returning the data frame."
   ]
  },
  {
   "cell_type": "code",
   "execution_count": 6,
   "metadata": {},
   "outputs": [],
   "source": [
    "df['market_cap'] = df['market_cap'].map(lambda x: x.strip(' $'))\n",
    "df['market_cap'] = df['market_cap'].map(lambda x: x.replace(',',''))\n",
    "df['price'] = df['price'].map(lambda x: x.strip('$'))\n",
    "df['price'] = df['price'].map(lambda x: x.replace(',',''))\n",
    "df['volume'] = df['volume'].map(lambda x: x.strip('$'))\n",
    "df['volume'] = df['volume'].map(lambda x: x.replace(',',''))\n",
    "df['change'] = df['change'].map(lambda x: x.strip('%'))\n",
    "df['supply'] = df['supply'].map(lambda x: x.replace(',',''))"
   ]
  },
  {
   "cell_type": "code",
   "execution_count": 7,
   "metadata": {},
   "outputs": [],
   "source": [
    "df.market_cap = df.market_cap.astype(np.float64)\n",
    "df.price = df.price.astype(np.float64)\n",
    "df.volume = df.volume.astype(np.float64)\n",
    "df.change = df.change.astype(np.float64)\n",
    "df.supply = df.supply.astype(np.float64)\n",
    "df['rank'] = df['rank'].astype(np.int64)"
   ]
  },
  {
   "cell_type": "code",
   "execution_count": 8,
   "metadata": {},
   "outputs": [
    {
     "name": "stdout",
     "output_type": "stream",
     "text": [
      "<class 'pandas.core.frame.DataFrame'>\n",
      "RangeIndex: 100 entries, 0 to 99\n",
      "Data columns (total 7 columns):\n",
      "rank             100 non-null int64\n",
      "currency_name    100 non-null object\n",
      "market_cap       100 non-null float64\n",
      "price            100 non-null float64\n",
      "volume           100 non-null float64\n",
      "supply           100 non-null float64\n",
      "change           100 non-null float64\n",
      "dtypes: float64(5), int64(1), object(1)\n",
      "memory usage: 5.5+ KB\n"
     ]
    }
   ],
   "source": [
    "df.info()"
   ]
  },
  {
   "cell_type": "code",
   "execution_count": 9,
   "metadata": {},
   "outputs": [],
   "source": [
    "mcap_df = df.sort_values('market_cap', ascending=False)"
   ]
  },
  {
   "cell_type": "code",
   "execution_count": 10,
   "metadata": {},
   "outputs": [
    {
     "data": {
      "text/plain": [
       "<matplotlib.axes._subplots.AxesSubplot at 0x1a197ca320>"
      ]
     },
     "execution_count": 10,
     "metadata": {},
     "output_type": "execute_result"
    },
    {
     "data": {
      "image/png": "[encoded data removed]",
      "text/plain": [
       "<Figure size 432x288 with 1 Axes>"
      ]
     },
     "metadata": {
      "needs_background": "light"
     },
     "output_type": "display_data"
    }
   ],
   "source": [
    "%matplotlib inline\n",
    "mcap_df10 = mcap_df.iloc[:10]\n",
    "sns.barplot(x='market_cap',y='currency_name',orient=\"h\",data=mcap_df10)"
   ]
  },
  {
   "cell_type": "markdown",
   "metadata": {},
   "source": [
    "**Note:If your y variable is categorical you can't draw a vertical barplot.**"
   ]
  },
  {
   "cell_type": "code",
   "execution_count": 11,
   "metadata": {},
   "outputs": [
    {
     "data": {
      "image/png": "[encoded data removed]",
      "text/plain": [
       "<Figure size 720x144 with 1 Axes>"
      ]
     },
     "metadata": {
      "needs_background": "light"
     },
     "output_type": "display_data"
    }
   ],
   "source": [
    "mcap_df50 = mcap_df.iloc[:50]\n",
    "prmcap_df = mcap_df50.loc[:,('price','market_cap')]\n",
    "ax = sns.pairplot(data=mcap_df50,kind='scatter',x_vars=\"price\",y_vars=\"market_cap\")\n",
    "ax.fig.set_size_inches(10,2)\n"
   ]
  },
  {
   "cell_type": "code",
   "execution_count": 12,
   "metadata": {},
   "outputs": [
    {
     "data": {
      "image/png": "[encoded data removed]",
      "text/plain": [
       "<Figure size 720x144 with 1 Axes>"
      ]
     },
     "metadata": {
      "needs_background": "light"
     },
     "output_type": "display_data"
    }
   ],
   "source": [
    "prvol_df = df.loc[:,('price','volume')]\n",
    "axvol = sns.pairplot(data=prvol_df,kind='scatter',x_vars=\"price\",y_vars=\"volume\")\n",
    "axvol.fig.set_size_inches(10,2)"
   ]
  },
  {
   "cell_type": "code",
   "execution_count": 13,
   "metadata": {},
   "outputs": [],
   "source": [
    "change_df = df.sort_values(by='change', ascending=False)[:10]"
   ]
  },
  {
   "cell_type": "code",
   "execution_count": 14,
   "metadata": {},
   "outputs": [
    {
     "data": {
      "text/plain": [
       "<matplotlib.axes._subplots.AxesSubplot at 0x1a19a5ea20>"
      ]
     },
     "execution_count": 14,
     "metadata": {},
     "output_type": "execute_result"
    },
    {
     "data": {
      "image/png": "[encoded data removed]",
      "text/plain": [
       "<Figure size 432x288 with 1 Axes>"
      ]
     },
     "metadata": {
      "needs_background": "light"
     },
     "output_type": "display_data"
    }
   ],
   "source": [
    "sns.barplot(data=change_df,orient=\"h\",x=\"change\",y=\"currency_name\")"
   ]
  }
 ],
 "metadata": {
  "kernelspec": {
   "display_name": "Python 3",
   "language": "python",
   "name": "python3"
  },
  "language_info": {
   "codemirror_mode": {
    "name": "ipython",
    "version": 3
   },
   "file_extension": ".py",
   "mimetype": "text/x-python",
   "name": "python",
   "nbconvert_exporter": "python",
   "pygments_lexer": "ipython3",
   "version": "3.7.1"
  }
 },
 "nbformat": 4,
 "nbformat_minor": 2
}
